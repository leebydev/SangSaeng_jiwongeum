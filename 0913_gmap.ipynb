{
 "cells": [
  {
   "cell_type": "code",
   "execution_count": 88,
   "metadata": {},
   "outputs": [],
   "source": [
    "import pandas as pd\n",
    "import time as t\n",
    "from selenium import webdriver\n",
    "from bs4 import BeautifulSoup\n",
    "import urllib.request"
   ]
  },
  {
   "cell_type": "code",
   "execution_count": 156,
   "metadata": {},
   "outputs": [],
   "source": [
    "d = webdriver.Chrome('../driver/chromedriver')\n",
    "d.set_window_size(900,1080)\n",
    "d.get(\"https://xn--3e0bnl907agre90ivg11qswg.kr/\")\n",
    "t.sleep(1)\n",
    "\n",
    "# step1 시.도.구 클릭(서울시 강북구 선택)\n",
    "step1 = d.find_elements_by_class_name('step1')[0].click()\n",
    "si = d.find_elements_by_class_name('depth2 >li')[8].click()\n",
    "t.sleep(1)\n",
    "gu = d.find_elements_by_class_name('depth3 >li')[2].click()\n",
    "t.sleep(1)\n",
    "\n",
    "# step2 동 클릭(미아동 선택)\n",
    "step2 = d.find_elements_by_class_name('step2')[0].click()\n",
    "dong = d.find_elements_by_css_selector('#ldong >li')[0].click() # 0~3\n",
    "t.sleep(1)\n",
    "\n",
    "# step3 카테고리 클릭(카페/디저트 선택)\n",
    "step3 = d.find_elements_by_class_name('step3')[0].click()\n",
    "category = d.find_elements_by_css_selector('#category >li')[3].click()\n",
    "t.sleep(1)\n",
    "\n",
    "# step5 찾기 버튼 클릭\n",
    "step5 = d.find_elements_by_class_name('step5')[0].click()"
   ]
  },
  {
   "cell_type": "code",
   "execution_count": null,
   "metadata": {},
   "outputs": [],
   "source": [
    "# 다음버튼 함수로 만듬\n",
    "def next():\n",
    "    d.find_elements_by_xpath(\"\"\"//*[@id=\"list_wrap\"]/div/div[2]/a[12]\"\"\")[0].click()"
   ]
  },
  {
   "cell_type": "code",
   "execution_count": null,
   "metadata": {},
   "outputs": [],
   "source": [
    "# 가게이름, 가게주소 빈 리스트 생성\n",
    "mia_name = []\n",
    "mia_add = []\n",
    "x = 0\n",
    "\n",
    "while x < 21:\n",
    "    next()\n",
    "    try: \n",
    "        for x in range(0,20):\n",
    "            mia = d.find_elements_by_class_name('text_l')[x]\n",
    "            if x % 2 == 0:\n",
    "                x = x + 1\n",
    "                mia_name.append(mia.text)\n",
    "\n",
    "            elif x % 2 == 1:\n",
    "                x = x + 1\n",
    "                mia_add.append(mia.text)\n",
    "    except IndexError: \n",
    "        print(\"error\")\n",
    "        \n",
    "    if x < 20:\n",
    "        break"
   ]
  },
  {
   "cell_type": "code",
   "execution_count": 222,
   "metadata": {},
   "outputs": [],
   "source": [
    "# 수집된 데이터를 데이터프레임화하고 저장\n",
    "combine = {\"name\":mia_name, \"add\":mia_add}\n",
    "mia = pd.DataFrame(combine)\n",
    "mia.to_csv(\"mia.csv\", encoding=\"\")"
   ]
  },
  {
   "cell_type": "code",
   "execution_count": 232,
   "metadata": {},
   "outputs": [],
   "source": [
    "combine = {\"name\":mia_name, \"add\":mia_add}\n",
    "mia = pd.DataFrame(combine)\n",
    "mia.to_excel(\"mia2.xlsx\")"
   ]
  },
  {
   "cell_type": "code",
   "execution_count": 230,
   "metadata": {
    "collapsed": true
   },
   "outputs": [
    {
     "data": {
      "text/html": [
       "<div>\n",
       "<style scoped>\n",
       "    .dataframe tbody tr th:only-of-type {\n",
       "        vertical-align: middle;\n",
       "    }\n",
       "\n",
       "    .dataframe tbody tr th {\n",
       "        vertical-align: top;\n",
       "    }\n",
       "\n",
       "    .dataframe thead th {\n",
       "        text-align: right;\n",
       "    }\n",
       "</style>\n",
       "<table border=\"1\" class=\"dataframe\">\n",
       "  <thead>\n",
       "    <tr style=\"text-align: right;\">\n",
       "      <th></th>\n",
       "      <th>Unnamed: 0</th>\n",
       "      <th>name</th>\n",
       "      <th>add</th>\n",
       "    </tr>\n",
       "  </thead>\n",
       "  <tbody>\n",
       "    <tr>\n",
       "      <td>0</td>\n",
       "      <td>0</td>\n",
       "      <td>카페테이크알</td>\n",
       "      <td>서울특별시 강북구 도봉로76길 12 1층</td>\n",
       "    </tr>\n",
       "    <tr>\n",
       "      <td>1</td>\n",
       "      <td>1</td>\n",
       "      <td>대성떡방앗간</td>\n",
       "      <td>서울특별시 강북구 삼양로27길 38 대성떡방앗간</td>\n",
       "    </tr>\n",
       "    <tr>\n",
       "      <td>2</td>\n",
       "      <td>2</td>\n",
       "      <td>파리바게뜨 미아영훈\\n점</td>\n",
       "      <td>서울특별시 강북구 도봉로13길 13 1층3~4호</td>\n",
       "    </tr>\n",
       "    <tr>\n",
       "      <td>3</td>\n",
       "      <td>3</td>\n",
       "      <td>neezcoffee</td>\n",
       "      <td>서울특별시 강북구 도봉로20가길 79 1층, 니즈커피</td>\n",
       "    </tr>\n",
       "    <tr>\n",
       "      <td>4</td>\n",
       "      <td>4</td>\n",
       "      <td>와겐커피</td>\n",
       "      <td>서울특별시 강북구 솔매로 131 1층</td>\n",
       "    </tr>\n",
       "    <tr>\n",
       "      <td>...</td>\n",
       "      <td>...</td>\n",
       "      <td>...</td>\n",
       "      <td>...</td>\n",
       "    </tr>\n",
       "    <tr>\n",
       "      <td>178</td>\n",
       "      <td>178</td>\n",
       "      <td>이음</td>\n",
       "      <td>서울특별시 강북구 솔샘로31길 12-5 1층</td>\n",
       "    </tr>\n",
       "    <tr>\n",
       "      <td>179</td>\n",
       "      <td>179</td>\n",
       "      <td>신빵굼터</td>\n",
       "      <td>서울특별시 강북구 삼양로 242 신빵굼터</td>\n",
       "    </tr>\n",
       "    <tr>\n",
       "      <td>180</td>\n",
       "      <td>180</td>\n",
       "      <td>와플대학 삼양캠퍼스</td>\n",
       "      <td>서울특별시 강북구 솔샘로 209 1층 우측2칸</td>\n",
       "    </tr>\n",
       "    <tr>\n",
       "      <td>181</td>\n",
       "      <td>181</td>\n",
       "      <td>달디유</td>\n",
       "      <td>서울특별시 강북구 월계로7길 66 달디유</td>\n",
       "    </tr>\n",
       "    <tr>\n",
       "      <td>182</td>\n",
       "      <td>182</td>\n",
       "      <td>요거프레소 미아뉴타\\n운점</td>\n",
       "      <td>서울특별시 강북구 삼양로27길 19 201동 상가 110호</td>\n",
       "    </tr>\n",
       "  </tbody>\n",
       "</table>\n",
       "<p>183 rows × 3 columns</p>\n",
       "</div>"
      ],
      "text/plain": [
       "     Unnamed: 0            name                               add\n",
       "0             0          카페테이크알            서울특별시 강북구 도봉로76길 12 1층\n",
       "1             1          대성떡방앗간        서울특별시 강북구 삼양로27길 38 대성떡방앗간\n",
       "2             2   파리바게뜨 미아영훈\\n점        서울특별시 강북구 도봉로13길 13 1층3~4호\n",
       "3             3      neezcoffee     서울특별시 강북구 도봉로20가길 79 1층, 니즈커피\n",
       "4             4            와겐커피              서울특별시 강북구 솔매로 131 1층\n",
       "..          ...             ...                               ...\n",
       "178         178              이음          서울특별시 강북구 솔샘로31길 12-5 1층\n",
       "179         179            신빵굼터            서울특별시 강북구 삼양로 242 신빵굼터\n",
       "180         180      와플대학 삼양캠퍼스         서울특별시 강북구 솔샘로 209 1층 우측2칸\n",
       "181         181             달디유            서울특별시 강북구 월계로7길 66 달디유\n",
       "182         182  요거프레소 미아뉴타\\n운점  서울특별시 강북구 삼양로27길 19 201동 상가 110호\n",
       "\n",
       "[183 rows x 3 columns]"
      ]
     },
     "execution_count": 230,
     "metadata": {},
     "output_type": "execute_result"
    }
   ],
   "source": [
    "# 저장된 데이터 불러오기\n",
    "mia = pd.read_csv(\"mia.csv\", encoding='cp949')\n",
    "mia"
   ]
  },
  {
   "cell_type": "code",
   "execution_count": 236,
   "metadata": {},
   "outputs": [
    {
     "data": {
      "text/html": [
       "<div>\n",
       "<style scoped>\n",
       "    .dataframe tbody tr th:only-of-type {\n",
       "        vertical-align: middle;\n",
       "    }\n",
       "\n",
       "    .dataframe tbody tr th {\n",
       "        vertical-align: top;\n",
       "    }\n",
       "\n",
       "    .dataframe thead th {\n",
       "        text-align: right;\n",
       "    }\n",
       "</style>\n",
       "<table border=\"1\" class=\"dataframe\">\n",
       "  <thead>\n",
       "    <tr style=\"text-align: right;\">\n",
       "      <th></th>\n",
       "      <th>Unnamed: 0</th>\n",
       "      <th>name</th>\n",
       "      <th>add</th>\n",
       "    </tr>\n",
       "  </thead>\n",
       "  <tbody>\n",
       "    <tr>\n",
       "      <td>0</td>\n",
       "      <td>0</td>\n",
       "      <td>카페테이크알</td>\n",
       "      <td>서울특별시 강북구 도봉로76길 12 1층</td>\n",
       "    </tr>\n",
       "    <tr>\n",
       "      <td>1</td>\n",
       "      <td>1</td>\n",
       "      <td>대성떡방앗간</td>\n",
       "      <td>서울특별시 강북구 삼양로27길 38 대성떡방앗간</td>\n",
       "    </tr>\n",
       "    <tr>\n",
       "      <td>2</td>\n",
       "      <td>2</td>\n",
       "      <td>파리바게뜨 미아영훈\\n점</td>\n",
       "      <td>서울특별시 강북구 도봉로13길 13 1층3~4호</td>\n",
       "    </tr>\n",
       "    <tr>\n",
       "      <td>3</td>\n",
       "      <td>3</td>\n",
       "      <td>neezcoffee</td>\n",
       "      <td>서울특별시 강북구 도봉로20가길 79 1층, 니즈커피</td>\n",
       "    </tr>\n",
       "    <tr>\n",
       "      <td>4</td>\n",
       "      <td>4</td>\n",
       "      <td>와겐커피</td>\n",
       "      <td>서울특별시 강북구 솔매로 131 1층</td>\n",
       "    </tr>\n",
       "    <tr>\n",
       "      <td>...</td>\n",
       "      <td>...</td>\n",
       "      <td>...</td>\n",
       "      <td>...</td>\n",
       "    </tr>\n",
       "    <tr>\n",
       "      <td>178</td>\n",
       "      <td>178</td>\n",
       "      <td>이음</td>\n",
       "      <td>서울특별시 강북구 솔샘로31길 12-5 1층</td>\n",
       "    </tr>\n",
       "    <tr>\n",
       "      <td>179</td>\n",
       "      <td>179</td>\n",
       "      <td>신빵굼터</td>\n",
       "      <td>서울특별시 강북구 삼양로 242 신빵굼터</td>\n",
       "    </tr>\n",
       "    <tr>\n",
       "      <td>180</td>\n",
       "      <td>180</td>\n",
       "      <td>와플대학 삼양캠퍼스</td>\n",
       "      <td>서울특별시 강북구 솔샘로 209 1층 우측2칸</td>\n",
       "    </tr>\n",
       "    <tr>\n",
       "      <td>181</td>\n",
       "      <td>181</td>\n",
       "      <td>달디유</td>\n",
       "      <td>서울특별시 강북구 월계로7길 66 달디유</td>\n",
       "    </tr>\n",
       "    <tr>\n",
       "      <td>182</td>\n",
       "      <td>182</td>\n",
       "      <td>요거프레소 미아뉴타\\n운점</td>\n",
       "      <td>서울특별시 강북구 삼양로27길 19 201동 상가 110호</td>\n",
       "    </tr>\n",
       "  </tbody>\n",
       "</table>\n",
       "<p>183 rows × 3 columns</p>\n",
       "</div>"
      ],
      "text/plain": [
       "     Unnamed: 0            name                               add\n",
       "0             0          카페테이크알            서울특별시 강북구 도봉로76길 12 1층\n",
       "1             1          대성떡방앗간        서울특별시 강북구 삼양로27길 38 대성떡방앗간\n",
       "2             2   파리바게뜨 미아영훈\\n점        서울특별시 강북구 도봉로13길 13 1층3~4호\n",
       "3             3      neezcoffee     서울특별시 강북구 도봉로20가길 79 1층, 니즈커피\n",
       "4             4            와겐커피              서울특별시 강북구 솔매로 131 1층\n",
       "..          ...             ...                               ...\n",
       "178         178              이음          서울특별시 강북구 솔샘로31길 12-5 1층\n",
       "179         179            신빵굼터            서울특별시 강북구 삼양로 242 신빵굼터\n",
       "180         180      와플대학 삼양캠퍼스         서울특별시 강북구 솔샘로 209 1층 우측2칸\n",
       "181         181             달디유            서울특별시 강북구 월계로7길 66 달디유\n",
       "182         182  요거프레소 미아뉴타\\n운점  서울특별시 강북구 삼양로27길 19 201동 상가 110호\n",
       "\n",
       "[183 rows x 3 columns]"
      ]
     },
     "execution_count": 236,
     "metadata": {},
     "output_type": "execute_result"
    }
   ],
   "source": [
    "mia2 = pd.read_excel('mia2.xlsx')\n",
    "mia2"
   ]
  },
  {
   "cell_type": "code",
   "execution_count": 231,
   "metadata": {
    "collapsed": true
   },
   "outputs": [
    {
     "data": {
      "text/html": [
       "<div>\n",
       "<style scoped>\n",
       "    .dataframe tbody tr th:only-of-type {\n",
       "        vertical-align: middle;\n",
       "    }\n",
       "\n",
       "    .dataframe tbody tr th {\n",
       "        vertical-align: top;\n",
       "    }\n",
       "\n",
       "    .dataframe thead th {\n",
       "        text-align: right;\n",
       "    }\n",
       "</style>\n",
       "<table border=\"1\" class=\"dataframe\">\n",
       "  <thead>\n",
       "    <tr style=\"text-align: right;\">\n",
       "      <th></th>\n",
       "      <th>Unnamed: 0</th>\n",
       "      <th>name</th>\n",
       "      <th>add</th>\n",
       "    </tr>\n",
       "  </thead>\n",
       "  <tbody>\n",
       "    <tr>\n",
       "      <td>0</td>\n",
       "      <td>0</td>\n",
       "      <td>카페테이크알</td>\n",
       "      <td>서울특별시 강북구 도봉로76길 12 1층</td>\n",
       "    </tr>\n",
       "    <tr>\n",
       "      <td>1</td>\n",
       "      <td>1</td>\n",
       "      <td>대성떡방앗간</td>\n",
       "      <td>서울특별시 강북구 삼양로27길 38 대성떡방앗간</td>\n",
       "    </tr>\n",
       "    <tr>\n",
       "      <td>2</td>\n",
       "      <td>2</td>\n",
       "      <td>파리바게뜨 미아영훈\\n점</td>\n",
       "      <td>서울특별시 강북구 도봉로13길 13 1층3~4호</td>\n",
       "    </tr>\n",
       "    <tr>\n",
       "      <td>3</td>\n",
       "      <td>3</td>\n",
       "      <td>neezcoffee</td>\n",
       "      <td>서울특별시 강북구 도봉로20가길 79 1층, 니즈커피</td>\n",
       "    </tr>\n",
       "    <tr>\n",
       "      <td>4</td>\n",
       "      <td>4</td>\n",
       "      <td>와겐커피</td>\n",
       "      <td>서울특별시 강북구 솔매로 131 1층</td>\n",
       "    </tr>\n",
       "    <tr>\n",
       "      <td>...</td>\n",
       "      <td>...</td>\n",
       "      <td>...</td>\n",
       "      <td>...</td>\n",
       "    </tr>\n",
       "    <tr>\n",
       "      <td>178</td>\n",
       "      <td>178</td>\n",
       "      <td>이음</td>\n",
       "      <td>서울특별시 강북구 솔샘로31길 12-5 1층</td>\n",
       "    </tr>\n",
       "    <tr>\n",
       "      <td>179</td>\n",
       "      <td>179</td>\n",
       "      <td>신빵굼터</td>\n",
       "      <td>서울특별시 강북구 삼양로 242 신빵굼터</td>\n",
       "    </tr>\n",
       "    <tr>\n",
       "      <td>180</td>\n",
       "      <td>180</td>\n",
       "      <td>와플대학 삼양캠퍼스</td>\n",
       "      <td>서울특별시 강북구 솔샘로 209 1층 우측2칸</td>\n",
       "    </tr>\n",
       "    <tr>\n",
       "      <td>181</td>\n",
       "      <td>181</td>\n",
       "      <td>달디유</td>\n",
       "      <td>서울특별시 강북구 월계로7길 66 달디유</td>\n",
       "    </tr>\n",
       "    <tr>\n",
       "      <td>182</td>\n",
       "      <td>182</td>\n",
       "      <td>요거프레소 미아뉴타\\n운점</td>\n",
       "      <td>서울특별시 강북구 삼양로27길 19 201동 상가 110호</td>\n",
       "    </tr>\n",
       "  </tbody>\n",
       "</table>\n",
       "<p>183 rows × 3 columns</p>\n",
       "</div>"
      ],
      "text/plain": [
       "     Unnamed: 0            name                               add\n",
       "0             0          카페테이크알            서울특별시 강북구 도봉로76길 12 1층\n",
       "1             1          대성떡방앗간        서울특별시 강북구 삼양로27길 38 대성떡방앗간\n",
       "2             2   파리바게뜨 미아영훈\\n점        서울특별시 강북구 도봉로13길 13 1층3~4호\n",
       "3             3      neezcoffee     서울특별시 강북구 도봉로20가길 79 1층, 니즈커피\n",
       "4             4            와겐커피              서울특별시 강북구 솔매로 131 1층\n",
       "..          ...             ...                               ...\n",
       "178         178              이음          서울특별시 강북구 솔샘로31길 12-5 1층\n",
       "179         179            신빵굼터            서울특별시 강북구 삼양로 242 신빵굼터\n",
       "180         180      와플대학 삼양캠퍼스         서울특별시 강북구 솔샘로 209 1층 우측2칸\n",
       "181         181             달디유            서울특별시 강북구 월계로7길 66 달디유\n",
       "182         182  요거프레소 미아뉴타\\n운점  서울특별시 강북구 삼양로27길 19 201동 상가 110호\n",
       "\n",
       "[183 rows x 3 columns]"
      ]
     },
     "execution_count": 231,
     "metadata": {},
     "output_type": "execute_result"
    }
   ],
   "source": [
    "mia"
   ]
  },
  {
   "cell_type": "markdown",
   "metadata": {},
   "source": [
    "---------------------------------"
   ]
  },
  {
   "cell_type": "code",
   "execution_count": 238,
   "metadata": {},
   "outputs": [],
   "source": [
    "d = webdriver.Chrome('../driver/chromedriver')\n",
    "d.set_window_size(900,1080)\n",
    "d.get(\"https://xn--3e0bnl907agre90ivg11qswg.kr/\")\n",
    "t.sleep(1)\n",
    "\n",
    "# step1 시.도.구 클릭(서울시 강북구 선택)\n",
    "step1 = d.find_elements_by_class_name('step1')[0].click()\n",
    "si = d.find_elements_by_class_name('depth2 >li')[8].click()\n",
    "t.sleep(1)\n",
    "gu = d.find_elements_by_class_name('depth3 >li')[2].click()\n",
    "t.sleep(1)\n",
    "\n",
    "# step3 카테고리 클릭(카페/디저트 선택)\n",
    "step3 = d.find_elements_by_class_name('step3')[0].click()\n",
    "category = d.find_elements_by_css_selector('#category >li')[3].click()\n",
    "t.sleep(1)"
   ]
  },
  {
   "cell_type": "code",
   "execution_count": 237,
   "metadata": {},
   "outputs": [],
   "source": [
    "d.close()"
   ]
  },
  {
   "cell_type": "code",
   "execution_count": null,
   "metadata": {},
   "outputs": [],
   "source": [
    "# step2 동 클릭(미아동 선택)\n",
    "\n",
    "step2 = d.find_elements_by_class_name('step2')[0].click()\n",
    "dong = d.find_elements_by_css_selector('#ldong >li')[0].click() # 0~3\n",
    "t.sleep(1)"
   ]
  },
  {
   "cell_type": "code",
   "execution_count": null,
   "metadata": {},
   "outputs": [],
   "source": [
    "# step2 동 클릭(미아동 선택)\n",
    "step2 = d.find_elements_by_class_name('step2')[0].click()\n",
    "dong = d.find_elements_by_css_selector('#ldong >li')[0].click() # 0~3\n",
    "t.sleep(1)\n",
    "\n",
    "# step5 찾기 버튼 클릭\n",
    "step5 = d.find_elements_by_class_name('step5')[0].click()"
   ]
  },
  {
   "cell_type": "code",
   "execution_count": 98,
   "metadata": {},
   "outputs": [
    {
     "data": {
      "text/plain": [
       "'수연떡방앗간'"
      ]
     },
     "execution_count": 98,
     "metadata": {},
     "output_type": "execute_result"
    }
   ],
   "source": [
    "a = 0\n",
    "mia = d.find_elements_by_class_name('text_l')[a]\n",
    "mia = mia.text\n",
    "mia"
   ]
  },
  {
   "cell_type": "code",
   "execution_count": 4,
   "metadata": {},
   "outputs": [
    {
     "name": "stdout",
     "output_type": "stream",
     "text": [
      "['수연떡방앗간', '엔젤리너스 미아삼\\n거리', '투썸플레이스 미아테\\n라스파크점', '투썸플레이스 미아사\\n거리역점', '신빵굼터', '할리스커피 미아역점', '39호두', '커피에반하다', '제너럴커피블랑', 'moonight']\n",
      "['서울특별시 강북구 도봉로38길 9 (송중동)', '서울특별시 강북구 도봉로10나길 4 (미아동)', '서울 강북구 삼각산동 811-9번지 2층208호위브테라스파크', '서울특별시 강북구 도봉로10길 6 지상1층 (미아동)', '서울특별시 강북구 삼양로 242 1층 (미아동)', '서울특별시 강북구 도봉로 203 1층 2층 (미아동)', '서울특별시 강북구 도봉로13가길 5 지하1층 (미아동)', '서울특별시 강북구 삼양로27길 95 두산위브트레지움아파트2단지상가동 1층 커피에반하다', '서울특별시 강북구 도봉로76길 30 1층 제너럴커피블랑', '서울특별시 강북구 솔매로50길 7 1층 카페문나잇 (moonight)']\n"
     ]
    }
   ],
   "source": [
    "mia_name = []\n",
    "mia_add = []\n",
    "x = 0\n",
    "\n",
    "for x in range(0,20):\n",
    "    mia = d.find_elements_by_class_name('text_l')[x]\n",
    "    if x % 2 == 0:\n",
    "        x = x + 1\n",
    "        mia_name.append(mia.text)\n",
    "\n",
    "for x in range(0,20):\n",
    "    mia = d.find_elements_by_class_name('text_l')[x]\n",
    "    if x % 2 == 1:\n",
    "        x = x + 1\n",
    "        mia_add.append(mia.text)\n",
    "        \n",
    "print(mia_name)\n",
    "print(mia_add)"
   ]
  },
  {
   "cell_type": "code",
   "execution_count": 22,
   "metadata": {},
   "outputs": [],
   "source": [
    "next = d.find_elements_by_xpath(\"\"\"//*[@id=\"list_wrap\"]/div/div[2]/a[12]\"\"\")[0].click()"
   ]
  },
  {
   "cell_type": "markdown",
   "metadata": {},
   "source": [
    "========================================================="
   ]
  },
  {
   "cell_type": "code",
   "execution_count": null,
   "metadata": {},
   "outputs": [],
   "source": [
    "def next():\n",
    "    d.find_elements_by_xpath(\"\"\"//*[@id=\"list_wrap\"]/div/div[2]/a[12]\"\"\")[0].click()"
   ]
  },
  {
   "cell_type": "code",
   "execution_count": 189,
   "metadata": {},
   "outputs": [],
   "source": [
    "mia_name = []\n",
    "mia_add = []\n",
    "x = 0\n",
    "\n",
    "next()\n",
    "try: \n",
    "    for x in range(0,20):\n",
    "        mia = d.find_elements_by_class_name('text_l')[x]\n",
    "        if x % 2 == 0:\n",
    "            x = x + 1\n",
    "            mia_name.append(mia.text)\n",
    "\n",
    "        elif x % 2 == 1:\n",
    "            x = x + 1\n",
    "            mia_add.append(mia.text)\n",
    "except IndexError: \n",
    "    print(\"error\")"
   ]
  },
  {
   "cell_type": "code",
   "execution_count": 190,
   "metadata": {},
   "outputs": [
    {
     "name": "stdout",
     "output_type": "stream",
     "text": [
      "['부부떡집', '셀렉토커피 미아점', '아이스크림 다있지롱\\n솔샘점', '더벤티 미아사거리역\\n점', '커피베이 미아유병원\\n점', '지유명차 미아점', '카페푸릇', '빈트로', '대복떡방앗간', '카페쿰']\n",
      "['서울특별시 강북구 솔샘로50길 4 부부떡집', '서울특별시 강북구 도봉로 177 셀렉토커피 미아', '서울특별시 강북구 솔샘로 167 상가동 지하2층 232호', '서울특별시 강북구 도봉로 63 1층', '서울특별시 강북구 도봉로 77 1층 101호', '서울특별시 강북구 솔매로49길 8 2층', '서울특별시 강북구 삼양로19길 157 상가2동 지층 B102', '서울특별시 강북구 솔샘로65길 134 1층 정면점포', '서울특별시 강북구 도봉로50길 12 1층', '서울특별시 강북구 도봉로30길 41 1층']\n"
     ]
    }
   ],
   "source": [
    "print(mia_name)\n",
    "print(mia_add)"
   ]
  },
  {
   "cell_type": "code",
   "execution_count": 213,
   "metadata": {
    "scrolled": true
   },
   "outputs": [
    {
     "name": "stdout",
     "output_type": "stream",
     "text": [
      "error\n"
     ]
    }
   ],
   "source": [
    "mia_name = []\n",
    "mia_add = []\n",
    "x = 0\n",
    "\n",
    "while x < 21:\n",
    "    next()\n",
    "    try: \n",
    "        for x in range(0,20):\n",
    "            mia = d.find_elements_by_class_name('text_l')[x]\n",
    "            if x % 2 == 0:\n",
    "                x = x + 1\n",
    "                mia_name.append(mia.text)\n",
    "\n",
    "            elif x % 2 == 1:\n",
    "                x = x + 1\n",
    "                mia_add.append(mia.text)\n",
    "    except IndexError: \n",
    "        print(\"error\")\n",
    "        \n",
    "    if x < 20:\n",
    "        break"
   ]
  },
  {
   "cell_type": "code",
   "execution_count": 214,
   "metadata": {},
   "outputs": [
    {
     "name": "stdout",
     "output_type": "stream",
     "text": [
      "['카페테이크알', '대성떡방앗간', '파리바게뜨 미아영훈\\n점', 'neezcoffee', '와겐커피', '빵이좋은사람들', '대성방앗간', '빵이요베이커리', '파리바게뜨 미아풍림\\n점', '찰떡궁합', '투썸플레이스 강북미\\n아점', '카페홀리(CafeH\\noly)', '대포항물회, 막회', '두레떡방앗간', '커피베이미아송중점', '핫브레드 미아사거리\\n역점', '콩아', '커피오쩜일(COFF\\nEE 5.1)', '자유', '까페히로', '호밀호두', '일이이육(1226)', '더케이즈커피', '대가떡집', '카페보나', '카페엘파소(CAFE\\nELPASO)', '위드커피', '데콕트', '더 플랜 디(THE\\nPLAN D)', '떡이야기', '떡볶이스타', '솔샘떡방', '종로떡집', '카페베네 삼양사거리\\n점', '파리바게뜨 미아중앙\\n점', '파리바게뜨미아경남점', '골목길 카페', '서울떡집', '땡큐베이커리', '삼양다방', '카페시집', '이디야커피 미아송천\\n점', '카페소소', '카페85도', '삼부자', '이엔바이(이n바이)', '사임당떡고을', '디오카페', '유월보름', '미아역점', '우리떡방아간', '느림의미학', '행복한커피', '런커피', '커피홀 미아롯데캐슬\\n점', '순카롱(soonca\\nron)', '모어댄커피', '쥬씨&차얌삼양점', '타프(TAF)', '매스앤플레이', '커피앤그릴', '라돌체비타', '뚜레쥬르 송천센트레\\n빌점', '수미네떡집', '뚜레쥬르', '뚜레쥬르 미아래미안\\n점', '브레드앤밀', '카베', '해피브레드', '아는카페', '파리바게트 북한산시\\n티점', '파리바게뜨까페미아역', '메가커피 삼양점', '꽈배기킹 꿈의숲점', '비미남경', '도본', '커피에반하다 강북도\\n봉로점', '이디야', '마마꿀단지', '파리바게뜨 미아신일', '대성떡집', '이디야 미아사거리역\\n점', '아몬드', '공간', '소희네', '이디야커피 꿈의숲해\\n링턴점', '이디야커피', '이디야미아삼거리점', '케익하우스몽마', '이디야커피(삼양시장\\n점)', '킹스턴커피(미아점)', '에그머니나', '카페공방향', '아이스킹', '카페인중독 미아점', '커피베이 솔샘역점', '파리바게뜨(미아사거\\n리역점)', '커피소리', '달코롬커피앤디저트', '커피둥지', '커피가게', '삼각산고등학교 사회\\n적협동조합', '주주커피', '벤투라커피', '스팀', '아미네', '하루당', '우스1123(Oot\\nh1123)', '이디야(삼각산점)', '파블로', '컴 어크로스', '용커피', '쥬뜨블룸(zoet\\nbloem)', '시퀀스', '디저트슈퍼마켓', '티아드', '종관과자점', '드롭바이드롭', '카카오클락', '카페 라온', '부부떡집', '셀렉토커피 미아점', '아이스크림 다있지롱\\n솔샘점', '더벤티 미아사거리역\\n점', '커피베이 미아유병원\\n점', '지유명차 미아점', '카페푸릇', '빈트로', '대복떡방앗간', '카페쿰', '그라운드 플로어', '용커피', '아이케이크유(I C\\nake U)', '1호기', '쁘띠따쁘띠 디저트카\\n페', '빵데이', '다솜 케이크 디저트\\n커피', '제이제곱', '황금(복)떡집', '노란코끼리', '코오피앤미', '카페051 미아사거\\n리역점', '뻥튀기 공작소', '하삼동커피 서울미아\\n사거리역점', '아이스크림공장', '온혜미로', '온기', '별난아이스25 미아\\n점', '포너드', '카페 탐사란', '비 커피(BE CO\\nFFEE)', '카페29', '안젤라', '서나 커피앤타르트', '데니시베이커리', '응응스크르 서울 미\\n아점', '워더커피', '디저트가주는여유', '메가커피 미아역점', '럼블도씨(rumbl\\ne doce)', '주연커피숍', '솔다방', 'noc bakesh\\nop(녹베이크샵)', '다미베베', '메가커피 삼양시장점', '메가커피 미아수유시\\n장점', '메가커피 미아롯데점', '용커피', '와피 미아역점', '빽다방 미아역점', '곰고미', '포트캔커피 삼양사거\\n리점', '라인커피숍', '카페베네 미아사거리\\n역점', '팬더카페', '삼성코인', '바스켓12(Bask\\net 12)', '삼양사거리점빽다방', '이음', '신빵굼터', '와플대학 삼양캠퍼스', '달디유', '요거프레소 미아뉴타\\n운점']\n",
      "['서울특별시 강북구 도봉로76길 12 1층', '서울특별시 강북구 삼양로27길 38 대성떡방앗간', '서울특별시 강북구 도봉로13길 13 1층3~4호', '서울특별시 강북구 도봉로20가길 79 1층, 니즈커피', '서울특별시 강북구 솔매로 131 1층', '서울특별시 강북구 월계로7길 53 빵이좋은사람들', '서울특별시 강북구 도봉로 41-12 대성방앗간', '서울특별시 강북구 솔매로 114 1층', '서울특별시 강북구 삼양로19길 69 1,2층(미아동)', '서울특별시 강북구 솔샘로 236 찰떡궁합(미아동)', '서울특별시 강북구 도봉로 241 투썸플레이스 강북미아점', '서울특별시 강북구 솔매로50길 69 1층(미아동, 정우빌딩)', '서울특별시 강북구 솔샘로 261 외1필지, 대포항물회, 막회(미아동)', '서울특별시 강북구 오현로6길 89 두레떡방앗간', '서울특별시 강북구 월계로7길 63 커피베이', '서울특별시 강북구 도봉로 지하50 416-122', '서울특별시 강북구 삼양로19길 25 107동 지하1층 4-2호', '서울특별시 강북구 솔매로50길 27 1층 COFFEE 5.1(커피오쩜일)', '서울특별시 강북구 도봉로 177 101호', '서울특별시 강북구 도봉로68길 34 1층', '서울특별시 강북구 도봉로 186 1층', '서울특별시 강북구 도봉로13길 43 1층1226', '서울특별시 강북구 도봉로54길 6 1층 (미아동)', '서울특별시 강북구 솔샘로 219 1층 대가떡집', '서울시 강북구 도봉로79 1층', '서울특별시 강북구 오패산로30길 21 1층', '서울시 강북구 솔샘로174 2-106', '서울특별시 강북구 도봉로76길 35-6 1층', '서울특별시 강북구 도봉로67길 29 1층', '서울특별시 강북구 월계로7나길 10 1층', '서울특별시 강북구 월계로 53 1층 4호', '서울특별시 강북구 솔샘로 228 1층 1호', '서울특별시 강북구 숭인로 57-1 종로떡집', '서울특별시 강북구 솔샘로 223 카페베네 삼양사거리점', '서울특별시 강북구 도봉로 146 1층 파리바게뜨', '서울특별시 강북구 오패산로 130 1층', '서울시 강북구 삼양로35가길 1 골목길 카페', '서울특별시 강북구 솔샘로 237 서울떡집', '서울특별시 강북구 오패산로30길 30 1층 112호', '서울특별시 강북구 삼양로 170 지하1층', '서울특별시 강북구 솔샘로 301 지하1층 카페시집', '서울특별시 강북구 삼양로 118 2층', '서울특별시 강북구 솔샘로64길 21 1층, 카페소소', '서울특별시 강북구 삼양로19길 59 102호', '서울특별시 강북구 솔매로43길 71 1층', '서울특별시 강북구 솔매로 112 1층', '서울특별시 강북구 삼양로 172 사임당떡고을', '서울특별시 강북구 솔매로31길 2 1층 디오카페', '서울특별시 강북구 도봉로29길 16 1층 유월보름', '서울특별시 강북구 도봉로 207 대양빌딩 1층', '서울특별시 강북구 오패산로52길 46 지층', '서울특별시 강북구 솔매로 60 1층', '서울특별시 강북구 도봉로 34 1층75호', '서울특별시 강북구 솔샘로 184 제상가1동 제지1층 제비 121호', '서울특별시 강북구 오현로 56 101동 1층 1호 커피홀', '서울특별시 강북구 삼양로57길 3 1층 2호', '서울특별시 강북구 삼양로27길 56 1층', '서울특별시 강북구 솔샘로 232 솔샘빌딩 104호', '서울특별시 강북구 오패산로30길 73 1층', '서울특별시 강북구 삼양로 169 3층', '서울특별시 강북구 도봉로 34 9002호', '서울특별시 강북구 삼양로19길 25 108동 3호', '서울특별시 강북구 숭인로 39 상가-109', '서울특별시 강북구 월계로7길 63 수미네떡집', '서울특별시 강북구 도봉로 177 1층 뚜레쥬르', '서울특별시 강북구 삼양로19길 25 107동 지하1층 제3-1호', '서울특별시 강북구 삼양로27길 43 1층106호', '서울특별시 강북구 솔매로44길 5 1층', '서울특별시 강북구 솔샘로 184 제1상가 1동 지하2층 B207', '서울특별시 강북구 솔매로50길 50 1층', '서울특별시 강북구 솔샘로35길 22 1층 파리바게트', '서울특별시 강북구 도봉로 178 1층 파리바게뜨', '서울특별시 강북구 솔샘로 213-2 1층 우측', '서울특별시 강북구 오현로 38 1층', '서울특별시 강북구 솔샘로67길 113 1층', '서울특별시 강북구 도봉로 284 2층', '서울특별시 강북구 도봉로13길 37 1층 커피에반하다', '서울특별시 강북구 도봉로 128 1층 이디야', '서울특별시 강북구 삼양로19길 157 부상가 105호', '서울특별시 강북구 도봉로 237 파리바게뜨 미아신일점', '서울특별시 강북구 오패산로30길 27 대성떡집', '서울특별시 강북구 도봉로10길 28 1층 이디야커피', '서울특별시 강북구 도봉로68길 36 1층 아몬드', '서울특별시 강북구 월계로 53 108호, 202호(미아동)', '서울특별시 강북구 도봉로10길 67 1층', '서울특별시 강북구 오현로 45 108동 상가 2-7 이디야커피', '서울특별시 강북구 솔샘로 257 1층(미아동)', '서울특별시 강북구 도봉로 45 이디야미아삼거리점', '서울특별시 강북구 도봉로 209-1 1층', '서울특별시 강북구 삼양로 234 1층 이디야커피', '서울특별시 강북구 도봉로 174 1층 1호', '서울특별시 강북구 솔매로 64-1 1층, 에그머니나', '서울특별시 강북구 삼양로27길 52 1층', '서울특별시 강북구 도봉로67길 40 1층', '서울특별시 강북구 오패산로30길 55 카페인중독', '서울특별시 강북구 솔샘로 203 1층 커피베이(미아동)', '서울특별시 강북구 도봉로8길 11 파리비게뜨', '서울특별시 강북구 솔매로50길 68 1층 왼쪽', '서울특별시 강북구 오현로 45 상가 108동 2-3A,B호', '서울특별시 강북구 솔매로50길 27 1층', '서울특별시 강북구 삼양로 201 101호,102호', '서울특별시 강북구 삼양로19길 40 1층', '서울특별시 강북구 솔샘로 167 236호 주주커피', '서울특별시 강북구 도봉로10다길 7-1 벤투라커피', '서울특별시 강북구 솔샘로 184 상가동 1동 지층 비125호', '서울특별시 강북구 솔매로46길 33 1층 카페 아미네', '서울특별시 강북구 솔매로 122 카페 하루당', '서울특별시 강북구 오현로4길 12 상가 104호', '서울특별시 강북구 솔샘로40길 3 이디야', '서울특별시 강북구 도봉로 166 1층 파블로', '서울특별시 강북구 삼양로54길 124 1층', '서울특별시 강북구 도봉로13길 22 1층 우측 용커피', '서울특별시 강북구 솔샘로 167 벽산라이브파크 상가 237호', '서울특별시 강북구 도봉로20가길 71 2층', '서울특별시 강북구 도봉로30길 27 1층', '서울특별시 강북구 삼양로27길 19 204동 상가 TIA:D 카페', '서울특별시 강북구 삼양로28길 5 1층', '서울특별시 강북구 도봉로68길 33 지층 1층', '서울특별시 강북구 덕릉로28길 9 1층 카카오클락', '서울특별시 강북구 오패산로 114 1층 카페 라온', '서울특별시 강북구 솔샘로50길 4 부부떡집', '서울특별시 강북구 도봉로 177 셀렉토커피 미아', '서울특별시 강북구 솔샘로 167 상가동 지하2층 232호', '서울특별시 강북구 도봉로 63 1층', '서울특별시 강북구 도봉로 77 1층 101호', '서울특별시 강북구 솔매로49길 8 2층', '서울특별시 강북구 삼양로19길 157 상가2동 지층 B102', '서울특별시 강북구 솔샘로65길 134 1층 정면점포', '서울특별시 강북구 도봉로50길 12 1층', '서울특별시 강북구 도봉로30길 41 1층', '서울특별시 강북구 솔매로45길 50 1층', '서울특별시 강북구 오패산로30길 6 1층', '서울특별시 강북구 도봉로4길 31 2층', '서울특별시 강북구 월계로7길 5 1층', '서울특별시 강북구 삼양로57길 17 1층', '서울특별시 강북구 솔샘로 237 1층 빵데이', '서울특별시 강북구 솔매로 88 1층', '서울특별시 강북구 도봉로10나길 17 1층', '서울특별시 강북구 솔매로 82 1층 황금복떡집', '서울특별시 강북구 도봉로 170 1층 노란코끼리', '서울특별시 강북구 솔샘로 300 1층 좌측', '서울특별시 강북구 숭인로 63-1 1층 104호', '서울특별시 강북구 삼양로27길 19 상가 201동 102호', '서울특별시 강북구 도봉로 40 1층103호', '서울특별시 강북구 솔샘로 199-1 1층', '서울특별시 강북구 솔매로52길 17 1층 온혜미로카페', '서울특별시 강북구 도봉로55길 4 1층 우측(미아동)', '서울특별시 강북구 솔매로 114 1동 1층', '서울특별시 강북구 솔매로50길 50 포너드커피', '서울특별시 강북구 도봉로 229 1층 우측 두번째 카페 탐사란', '서울특별시 강북구 도봉로15길 11 1층(미아동)', '서울특별시 강북구 오현로 29 1층', '서울특별시 강북구 솔매로 64-1 1층', '서울특별시 강북구 도봉로13가길 9-2 서나 커피앤타르트', '서울특별시 강북구 도봉로 183 데니시베이커리', '서울특별시 강북구 오현로 45 응응스크르 서울 미아점', '서울특별시 강북구 도봉로53길 16 1층 워더커피', '서울특별시 강북구 도봉로13길 43 1층', '서울특별시 강북구 도봉로 201-2 메가엠지씨 커피미아역점', '서울특별시 강북구 오패산로 122 럼블도씨(rumble doce)', '서울특별시 강북구 도봉로67길 13 주연커피숍', '서울특별시 강북구 도봉로8길 70 솔다방', '서울특별시 강북구 숭인로 65-3 1층 nocbakeshop', '서울특별시 강북구 솔매로50길 48 1층', '서울특별시 강북구 삼양로54길 3 메가커피 삼양시장점', '서울특별시 강북구 솔매로45길 95 메가커피 미아수유시장점', '서울특별시 강북구 도봉로10길 38 메가커피 미아롯데점', '서울특별시 강북구 오패산로30길 6 내제1층', '서울특별시 강북구 도봉로50길 12 1층 우측', '서울특별시 강북구 도봉로 190 1층 빽다방 미아역점', '서울특별시 강북구 도봉로78길 42 곰고미', '서울특별시 강북구 삼양로27길 35-21 109호 포트캔커피', '서울특별시 강북구 도봉로 260 2층 라인커피숍', '서울특별시 강북구 도봉로 67 1층 1호', '서울특별시 강북구 도봉로 62 팬더카페', '서울특별시 강북구 덕릉로32길 12 1층', '서울특별시 강북구 오패산로30길 73 1층', '서울특별시 강북구 삼양로 169 1층 빽다방', '서울특별시 강북구 솔샘로31길 12-5 1층', '서울특별시 강북구 삼양로 242 신빵굼터', '서울특별시 강북구 솔샘로 209 1층 우측2칸', '서울특별시 강북구 월계로7길 66 달디유', '서울특별시 강북구 삼양로27길 19 201동 상가 110호']\n"
     ]
    }
   ],
   "source": [
    "print(mia_name)\n",
    "print(mia_add)"
   ]
  },
  {
   "cell_type": "code",
   "execution_count": 215,
   "metadata": {},
   "outputs": [
    {
     "data": {
      "text/plain": [
       "['카페테이크알',\n",
       " '대성떡방앗간',\n",
       " '파리바게뜨 미아영훈\\n점',\n",
       " 'neezcoffee',\n",
       " '와겐커피',\n",
       " '빵이좋은사람들',\n",
       " '대성방앗간',\n",
       " '빵이요베이커리',\n",
       " '파리바게뜨 미아풍림\\n점',\n",
       " '찰떡궁합',\n",
       " '투썸플레이스 강북미\\n아점',\n",
       " '카페홀리(CafeH\\noly)',\n",
       " '대포항물회, 막회',\n",
       " '두레떡방앗간',\n",
       " '커피베이미아송중점',\n",
       " '핫브레드 미아사거리\\n역점',\n",
       " '콩아',\n",
       " '커피오쩜일(COFF\\nEE 5.1)',\n",
       " '자유',\n",
       " '까페히로',\n",
       " '호밀호두',\n",
       " '일이이육(1226)',\n",
       " '더케이즈커피',\n",
       " '대가떡집',\n",
       " '카페보나',\n",
       " '카페엘파소(CAFE\\nELPASO)',\n",
       " '위드커피',\n",
       " '데콕트',\n",
       " '더 플랜 디(THE\\nPLAN D)',\n",
       " '떡이야기',\n",
       " '떡볶이스타',\n",
       " '솔샘떡방',\n",
       " '종로떡집',\n",
       " '카페베네 삼양사거리\\n점',\n",
       " '파리바게뜨 미아중앙\\n점',\n",
       " '파리바게뜨미아경남점',\n",
       " '골목길 카페',\n",
       " '서울떡집',\n",
       " '땡큐베이커리',\n",
       " '삼양다방',\n",
       " '카페시집',\n",
       " '이디야커피 미아송천\\n점',\n",
       " '카페소소',\n",
       " '카페85도',\n",
       " '삼부자',\n",
       " '이엔바이(이n바이)',\n",
       " '사임당떡고을',\n",
       " '디오카페',\n",
       " '유월보름',\n",
       " '미아역점',\n",
       " '우리떡방아간',\n",
       " '느림의미학',\n",
       " '행복한커피',\n",
       " '런커피',\n",
       " '커피홀 미아롯데캐슬\\n점',\n",
       " '순카롱(soonca\\nron)',\n",
       " '모어댄커피',\n",
       " '쥬씨&차얌삼양점',\n",
       " '타프(TAF)',\n",
       " '매스앤플레이',\n",
       " '커피앤그릴',\n",
       " '라돌체비타',\n",
       " '뚜레쥬르 송천센트레\\n빌점',\n",
       " '수미네떡집',\n",
       " '뚜레쥬르',\n",
       " '뚜레쥬르 미아래미안\\n점',\n",
       " '브레드앤밀',\n",
       " '카베',\n",
       " '해피브레드',\n",
       " '아는카페',\n",
       " '파리바게트 북한산시\\n티점',\n",
       " '파리바게뜨까페미아역',\n",
       " '메가커피 삼양점',\n",
       " '꽈배기킹 꿈의숲점',\n",
       " '비미남경',\n",
       " '도본',\n",
       " '커피에반하다 강북도\\n봉로점',\n",
       " '이디야',\n",
       " '마마꿀단지',\n",
       " '파리바게뜨 미아신일',\n",
       " '대성떡집',\n",
       " '이디야 미아사거리역\\n점',\n",
       " '아몬드',\n",
       " '공간',\n",
       " '소희네',\n",
       " '이디야커피 꿈의숲해\\n링턴점',\n",
       " '이디야커피',\n",
       " '이디야미아삼거리점',\n",
       " '케익하우스몽마',\n",
       " '이디야커피(삼양시장\\n점)',\n",
       " '킹스턴커피(미아점)',\n",
       " '에그머니나',\n",
       " '카페공방향',\n",
       " '아이스킹',\n",
       " '카페인중독 미아점',\n",
       " '커피베이 솔샘역점',\n",
       " '파리바게뜨(미아사거\\n리역점)',\n",
       " '커피소리',\n",
       " '달코롬커피앤디저트',\n",
       " '커피둥지',\n",
       " '커피가게',\n",
       " '삼각산고등학교 사회\\n적협동조합',\n",
       " '주주커피',\n",
       " '벤투라커피',\n",
       " '스팀',\n",
       " '아미네',\n",
       " '하루당',\n",
       " '우스1123(Oot\\nh1123)',\n",
       " '이디야(삼각산점)',\n",
       " '파블로',\n",
       " '컴 어크로스',\n",
       " '용커피',\n",
       " '쥬뜨블룸(zoet\\nbloem)',\n",
       " '시퀀스',\n",
       " '디저트슈퍼마켓',\n",
       " '티아드',\n",
       " '종관과자점',\n",
       " '드롭바이드롭',\n",
       " '카카오클락',\n",
       " '카페 라온',\n",
       " '부부떡집',\n",
       " '셀렉토커피 미아점',\n",
       " '아이스크림 다있지롱\\n솔샘점',\n",
       " '더벤티 미아사거리역\\n점',\n",
       " '커피베이 미아유병원\\n점',\n",
       " '지유명차 미아점',\n",
       " '카페푸릇',\n",
       " '빈트로',\n",
       " '대복떡방앗간',\n",
       " '카페쿰',\n",
       " '그라운드 플로어',\n",
       " '용커피',\n",
       " '아이케이크유(I C\\nake U)',\n",
       " '1호기',\n",
       " '쁘띠따쁘띠 디저트카\\n페',\n",
       " '빵데이',\n",
       " '다솜 케이크 디저트\\n커피',\n",
       " '제이제곱',\n",
       " '황금(복)떡집',\n",
       " '노란코끼리',\n",
       " '코오피앤미',\n",
       " '카페051 미아사거\\n리역점',\n",
       " '뻥튀기 공작소',\n",
       " '하삼동커피 서울미아\\n사거리역점',\n",
       " '아이스크림공장',\n",
       " '온혜미로',\n",
       " '온기',\n",
       " '별난아이스25 미아\\n점',\n",
       " '포너드',\n",
       " '카페 탐사란',\n",
       " '비 커피(BE CO\\nFFEE)',\n",
       " '카페29',\n",
       " '안젤라',\n",
       " '서나 커피앤타르트',\n",
       " '데니시베이커리',\n",
       " '응응스크르 서울 미\\n아점',\n",
       " '워더커피',\n",
       " '디저트가주는여유',\n",
       " '메가커피 미아역점',\n",
       " '럼블도씨(rumbl\\ne doce)',\n",
       " '주연커피숍',\n",
       " '솔다방',\n",
       " 'noc bakesh\\nop(녹베이크샵)',\n",
       " '다미베베',\n",
       " '메가커피 삼양시장점',\n",
       " '메가커피 미아수유시\\n장점',\n",
       " '메가커피 미아롯데점',\n",
       " '용커피',\n",
       " '와피 미아역점',\n",
       " '빽다방 미아역점',\n",
       " '곰고미',\n",
       " '포트캔커피 삼양사거\\n리점',\n",
       " '라인커피숍',\n",
       " '카페베네 미아사거리\\n역점',\n",
       " '팬더카페',\n",
       " '삼성코인',\n",
       " '바스켓12(Bask\\net 12)',\n",
       " '삼양사거리점빽다방',\n",
       " '이음',\n",
       " '신빵굼터',\n",
       " '와플대학 삼양캠퍼스',\n",
       " '달디유',\n",
       " '요거프레소 미아뉴타\\n운점']"
      ]
     },
     "execution_count": 215,
     "metadata": {},
     "output_type": "execute_result"
    }
   ],
   "source": [
    "mia_name"
   ]
  },
  {
   "cell_type": "code",
   "execution_count": 176,
   "metadata": {},
   "outputs": [],
   "source": [
    "def next():\n",
    "    d.find_elements_by_xpath(\"\"\"//*[@id=\"list_wrap\"]/div/div[2]/a[12]\"\"\")[0].click()"
   ]
  },
  {
   "cell_type": "code",
   "execution_count": 38,
   "metadata": {},
   "outputs": [],
   "source": [
    "next()"
   ]
  },
  {
   "cell_type": "code",
   "execution_count": null,
   "metadata": {},
   "outputs": [],
   "source": [
    "#list_wrap > div > div.pagination"
   ]
  },
  {
   "cell_type": "code",
   "execution_count": 150,
   "metadata": {},
   "outputs": [
    {
     "name": "stdout",
     "output_type": "stream",
     "text": [
      "error\n"
     ]
    }
   ],
   "source": [
    "def next():\n",
    "    d.find_elements_by_xpath(\"\"\"//*[@id=\"list_wrap\"]/div/div[2]/a[12]\"\"\")[0].click()\n",
    "\n",
    "\n",
    "mia_name = []\n",
    "mia_add = []\n",
    "x = 0\n",
    "\n",
    "try: \n",
    "    for x in range(0,20):\n",
    "        mia = d.find_elements_by_class_name('text_l')[x]\n",
    "        if x % 2 == 0:\n",
    "            x = x + 1\n",
    "            mia_name.append(mia.text)\n",
    "        elif x % 2 == 1:\n",
    "            x = x + 1\n",
    "            mia_add.append(mia.text)\n",
    "            \n",
    "except IndexError: \n",
    "    print(\"error\")\n"
   ]
  },
  {
   "cell_type": "code",
   "execution_count": 157,
   "metadata": {},
   "outputs": [],
   "source": [
    "def next():\n",
    "    d.find_elements_by_xpath(\"\"\"//*[@id=\"list_wrap\"]/div/div[2]/a[12]\"\"\")[0].click()"
   ]
  },
  {
   "cell_type": "code",
   "execution_count": 169,
   "metadata": {},
   "outputs": [],
   "source": [
    "def name():\n",
    "    mia_name = []\n",
    "    mia_add = []\n",
    "    x = 0\n",
    "\n",
    "    try: \n",
    "        for x in range(0,20):\n",
    "            mia = d.find_elements_by_class_name('text_l')[x]\n",
    "            if x % 2 == 0:\n",
    "                x = x + 1\n",
    "                mia_name.append(mia.text)\n",
    "            elif x % 2 == 1:\n",
    "                x = x + 1\n",
    "                mia_add.append(mia.text)\n",
    "\n",
    "    except IndexError: \n",
    "        print(\"error\")"
   ]
  },
  {
   "cell_type": "code",
   "execution_count": 168,
   "metadata": {},
   "outputs": [],
   "source": []
  },
  {
   "cell_type": "code",
   "execution_count": null,
   "metadata": {},
   "outputs": [],
   "source": []
  },
  {
   "cell_type": "code",
   "execution_count": 162,
   "metadata": {},
   "outputs": [],
   "source": [
    "mia_name = []\n",
    "mia_add = []\n",
    "x = 0\n",
    "\n",
    "try: \n",
    "    for x in range(0,20):\n",
    "        mia = d.find_elements_by_class_name('text_l')[x]\n",
    "        if x % 2 == 0:\n",
    "            x = x + 1\n",
    "            mia_name.append(mia.text)\n",
    "        elif x % 2 == 1:\n",
    "            x = x + 1\n",
    "            mia_add.append(mia.text)\n",
    "            \n",
    "except IndexError: \n",
    "    print(\"error\")"
   ]
  },
  {
   "cell_type": "code",
   "execution_count": 163,
   "metadata": {},
   "outputs": [
    {
     "data": {
      "text/plain": [
       "['수연떡방앗간',\n",
       " '엔젤리너스 미아삼\\n거리',\n",
       " '투썸플레이스 미아테\\n라스파크점',\n",
       " '투썸플레이스 미아사\\n거리역점',\n",
       " '신빵굼터',\n",
       " '할리스커피 미아역점',\n",
       " '39호두',\n",
       " '커피에반하다',\n",
       " '제너럴커피블랑',\n",
       " 'moonight']"
      ]
     },
     "execution_count": 163,
     "metadata": {},
     "output_type": "execute_result"
    }
   ],
   "source": [
    "mia_name"
   ]
  },
  {
   "cell_type": "code",
   "execution_count": 164,
   "metadata": {
    "scrolled": true
   },
   "outputs": [
    {
     "data": {
      "text/plain": [
       "['서울특별시 강북구 도봉로38길 9 (송중동)',\n",
       " '서울특별시 강북구 도봉로10나길 4 (미아동)',\n",
       " '서울 강북구 삼각산동 811-9번지 2층208호위브테라스파크',\n",
       " '서울특별시 강북구 도봉로10길 6 지상1층 (미아동)',\n",
       " '서울특별시 강북구 삼양로 242 1층 (미아동)',\n",
       " '서울특별시 강북구 도봉로 203 1층 2층 (미아동)',\n",
       " '서울특별시 강북구 도봉로13가길 5 지하1층 (미아동)',\n",
       " '서울특별시 강북구 삼양로27길 95 두산위브트레지움아파트2단지상가동 1층 커피에반하다',\n",
       " '서울특별시 강북구 도봉로76길 30 1층 제너럴커피블랑',\n",
       " '서울특별시 강북구 솔매로50길 7 1층 카페문나잇 (moonight)']"
      ]
     },
     "execution_count": 164,
     "metadata": {},
     "output_type": "execute_result"
    }
   ],
   "source": [
    "mia_add"
   ]
  },
  {
   "cell_type": "code",
   "execution_count": null,
   "metadata": {},
   "outputs": [],
   "source": [
    "for x in range(0,20):\n",
    "    mia = d.find_elements_by_class_name('text_l')[x]\n",
    "    if x % 2 == 1:\n",
    "        x = x + 1\n",
    "        mia_add.append(mia.text)\n",
    "        if else: pass\n",
    "    else: break\n"
   ]
  },
  {
   "cell_type": "code",
   "execution_count": null,
   "metadata": {},
   "outputs": [],
   "source": [
    "#list_wrap > div > div.table_col > table > tbody\n",
    "#list_wrap > div > div.table_col > table > tbody > tr:nth-child(1)"
   ]
  },
  {
   "cell_type": "code",
   "execution_count": 24,
   "metadata": {},
   "outputs": [
    {
     "data": {
      "text/plain": [
       "['수연떡방앗간',\n",
       " '엔젤리너스 미아삼\\n거리',\n",
       " '투썸플레이스 미아테\\n라스파크점',\n",
       " '투썸플레이스 미아사\\n거리역점',\n",
       " '신빵굼터',\n",
       " '할리스커피 미아역점',\n",
       " '39호두',\n",
       " '커피에반하다',\n",
       " '제너럴커피블랑',\n",
       " 'moonight']"
      ]
     },
     "execution_count": 24,
     "metadata": {},
     "output_type": "execute_result"
    }
   ],
   "source": [
    "mia_name = []\n",
    "x = 0\n",
    "\n",
    "for x in range(0,20):\n",
    "    mia = d.find_elements_by_class_name('text_l')[x]\n",
    "    if x % 2 == 0:\n",
    "        x = x + 1\n",
    "        mia_name.append(mia.text)\n",
    "    for \n",
    "next = d.find_elements_by_xpath(\"\"\"//*[@id=\"list_wrap\"]/div/div[2]/a[12]\"\"\")[0].click()\n",
    "mia_name        "
   ]
  },
  {
   "cell_type": "code",
   "execution_count": null,
   "metadata": {},
   "outputs": [],
   "source": [
    "//*[@id=\"list_wrap\"]/div/div[2]/a[3]\n",
    "\n",
    "\n",
    "4부터시작"
   ]
  },
  {
   "cell_type": "code",
   "execution_count": 267,
   "metadata": {},
   "outputs": [],
   "source": [
    "page = d.find_elements_by_css_selector('#list_wrap > div > div.pagination > a:nth-child(5)')[0].click()"
   ]
  },
  {
   "cell_type": "code",
   "execution_count": 9,
   "metadata": {},
   "outputs": [],
   "source": [
    "next = d.find_elements_by_xpath(\"\"\"//*[@id=\"list_wrap\"]/div/div[2]/a[12]\"\"\")[0].click()"
   ]
  },
  {
   "cell_type": "code",
   "execution_count": 7,
   "metadata": {},
   "outputs": [
    {
     "ename": "SyntaxError",
     "evalue": "invalid syntax (<ipython-input-7-37dbc2943818>, line 1)",
     "output_type": "error",
     "traceback": [
      "\u001b[1;36m  File \u001b[1;32m\"<ipython-input-7-37dbc2943818>\"\u001b[1;36m, line \u001b[1;32m1\u001b[0m\n\u001b[1;33m    //*[@id=\"list_wrap\"]/div/div[2]/a[12]\u001b[0m\n\u001b[1;37m     ^\u001b[0m\n\u001b[1;31mSyntaxError\u001b[0m\u001b[1;31m:\u001b[0m invalid syntax\n"
     ]
    }
   ],
   "source": [
    "//*[@id=\"list_wrap\"]/div/div[2]/a[12]\n",
    "\n",
    "//*[@id=\"list_wrap\"]/div/div[2]/a[12]"
   ]
  },
  {
   "cell_type": "code",
   "execution_count": 155,
   "metadata": {},
   "outputs": [],
   "source": [
    "d.close()"
   ]
  },
  {
   "cell_type": "code",
   "execution_count": 194,
   "metadata": {},
   "outputs": [],
   "source": [
    "https://xn--3e0bnl907agre90ivg11qswg.kr/\n",
    "https://xn--3e0bnl907agre90ivg11qswg.kr/\n",
    "https://xn--3e0bnl907agre90ivg11qswg.kr/"
   ]
  },
  {
   "cell_type": "code",
   "execution_count": null,
   "metadata": {},
   "outputs": [],
   "source": []
  }
 ],
 "metadata": {
  "kernelspec": {
   "display_name": "Python 3",
   "language": "python",
   "name": "python3"
  },
  "language_info": {
   "codemirror_mode": {
    "name": "ipython",
    "version": 3
   },
   "file_extension": ".py",
   "mimetype": "text/x-python",
   "name": "python",
   "nbconvert_exporter": "python",
   "pygments_lexer": "ipython3",
   "version": "3.7.4"
  }
 },
 "nbformat": 4,
 "nbformat_minor": 2
}
